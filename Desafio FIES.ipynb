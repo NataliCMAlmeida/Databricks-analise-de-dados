{
 "cells": [
  {
   "cell_type": "markdown",
   "metadata": {
    "application/vnd.databricks.v1+cell": {
     "cellMetadata": {
      "byteLimit": 2048000,
      "rowLimit": 10000
     },
     "inputWidgets": {},
     "nuid": "4822b949-bf1a-4e94-b96b-0518741c2467",
     "showTitle": false,
     "tableResultSettingsMap": {},
     "title": ""
    }
   },
   "source": [
    "Desafio 01"
   ]
  },
  {
   "cell_type": "code",
   "execution_count": 0,
   "metadata": {
    "application/vnd.databricks.v1+cell": {
     "cellMetadata": {
      "byteLimit": 2048000,
      "rowLimit": 10000
     },
     "inputWidgets": {},
     "nuid": "19b7b06a-8de6-4e66-aa60-684b4335c1e6",
     "showTitle": false,
     "tableResultSettingsMap": {},
     "title": ""
    }
   },
   "outputs": [
    {
     "output_type": "stream",
     "name": "stdout",
     "output_type": "stream",
     "text": [
      "Out[15]: True"
     ]
    }
   ],
   "source": [
    "dbutils.fs.mkdirs(\"/FileStore/tables/aula-databricks/Fies\")"
   ]
  },
  {
   "cell_type": "code",
   "execution_count": 0,
   "metadata": {
    "application/vnd.databricks.v1+cell": {
     "cellMetadata": {
      "byteLimit": 2048000,
      "rowLimit": 10000
     },
     "inputWidgets": {},
     "nuid": "0611d63e-b4f0-49c8-8c61-241a48120274",
     "showTitle": false,
     "tableResultSettingsMap": {},
     "title": ""
    }
   },
   "outputs": [],
   "source": [
    "local_do_arquivo = '/FileStore/tables/aula-databricks/Fies/relatorio_inscricao_dados_abertos_fies_22021.csv'"
   ]
  },
  {
   "cell_type": "code",
   "execution_count": 0,
   "metadata": {
    "application/vnd.databricks.v1+cell": {
     "cellMetadata": {
      "byteLimit": 2048000,
      "rowLimit": 10000
     },
     "inputWidgets": {},
     "nuid": "1520df58-0178-4119-92c0-025966e79099",
     "showTitle": false,
     "tableResultSettingsMap": {},
     "title": ""
    }
   },
   "outputs": [],
   "source": [
    "import pyspark.pandas as ps"
   ]
  },
  {
   "cell_type": "code",
   "execution_count": 0,
   "metadata": {
    "application/vnd.databricks.v1+cell": {
     "cellMetadata": {
      "byteLimit": 2048000,
      "rowLimit": 10000
     },
     "inputWidgets": {},
     "nuid": "39752c38-85d6-4108-982b-37e0895dc253",
     "showTitle": false,
     "tableResultSettingsMap": {},
     "title": ""
    }
   },
   "outputs": [],
   "source": [
    "df = ps.read_csv(local_do_arquivo,sep=';',index_col='ID do estudante')"
   ]
  },
  {
   "cell_type": "code",
   "execution_count": 0,
   "metadata": {
    "application/vnd.databricks.v1+cell": {
     "cellMetadata": {
      "byteLimit": 2048000,
      "rowLimit": 10000
     },
     "inputWidgets": {},
     "nuid": "4a60a244-b543-4e62-b5ba-e036965fc9b1",
     "showTitle": false,
     "tableResultSettingsMap": {},
     "title": ""
    }
   },
   "outputs": [
    {
     "output_type": "display_data",
     "data": {
      "text/html": [
       "<div>\n",
       "<style scoped>\n",
       "    .dataframe tbody tr th:only-of-type {\n",
       "        vertical-align: middle;\n",
       "    }\n",
       "\n",
       "    .dataframe tbody tr th {\n",
       "        vertical-align: top;\n",
       "    }\n",
       "\n",
       "    .dataframe thead th {\n",
       "        text-align: right;\n",
       "    }\n",
       "</style>\n",
       "<table border=\"1\" class=\"dataframe\">\n",
       "  <thead>\n",
       "    <tr style=\"text-align: right;\">\n",
       "      <th></th>\n",
       "      <th>Ano do processo seletivo</th>\n",
       "      <th>Semestre do processo seletivo</th>\n",
       "      <th>Sexo</th>\n",
       "      <th>Data de Nascimento</th>\n",
       "      <th>UF de resid�ncia</th>\n",
       "      <th>Municipio de resid�ncia</th>\n",
       "      <th>Etnia/Cor</th>\n",
       "      <th>Pessoa com defici�ncia?</th>\n",
       "      <th>Tipo de escola no ensino m�dio</th>\n",
       "      <th>Ano conclus�o ensino m�dio</th>\n",
       "      <th>Concluiu curso superior?</th>\n",
       "      <th>Professor rede p�blica ensino?</th>\n",
       "      <th>N� de membros Grupo Familiar</th>\n",
       "      <th>Renda familiar mensal bruta</th>\n",
       "      <th>Renda mensal bruta per capita</th>\n",
       "      <th>Regi�o grupo de prefer�ncia</th>\n",
       "      <th>UF</th>\n",
       "      <th>Cod.Microrregi�o</th>\n",
       "      <th>Microrregi�o</th>\n",
       "      <th>Cod.Mesorregi�o</th>\n",
       "      <th>Mesorregi�o</th>\n",
       "      <th>Conceito de curso do GP</th>\n",
       "      <th>�rea do conhecimento</th>\n",
       "      <th>Sub�rea do conhecimento</th>\n",
       "      <th>Cod. do Grupo de prefer�ncia</th>\n",
       "      <th>Nota Corte Grupo Prefer�ncia</th>\n",
       "      <th>Op��es de cursos da inscri��o</th>\n",
       "      <th>Nome mantenedora</th>\n",
       "      <th>Natureza Jur�dica Mantenedora</th>\n",
       "      <th>CNPJ da mantenedora</th>\n",
       "      <th>C�digo e-MEC da Mantenedora</th>\n",
       "      <th>Nome da IES</th>\n",
       "      <th>C�digo e-MEC da IES</th>\n",
       "      <th>Organiza��o Acad�mica da IES</th>\n",
       "      <th>Munic�pio da IES</th>\n",
       "      <th>UF da IES</th>\n",
       "      <th>Nome do Local de oferta</th>\n",
       "      <th>C�digo do Local de Oferta</th>\n",
       "      <th>Mun�cipio do Local de Oferta</th>\n",
       "      <th>UF do Local de Oferta</th>\n",
       "      <th>C�digo do curso</th>\n",
       "      <th>Nome do curso</th>\n",
       "      <th>Turno</th>\n",
       "      <th>Grau</th>\n",
       "      <th>Conceito</th>\n",
       "      <th>M�dia nota Enem</th>\n",
       "      <th>Ano do Enem</th>\n",
       "      <th>Reda��o</th>\n",
       "      <th>Matem�tica e suas Tecnologias</th>\n",
       "      <th>Linguagens, C�digos e suas Tec</th>\n",
       "      <th>Ci�ncias Natureza e suas Tec</th>\n",
       "      <th>Ci�ncias Humanas e suas Tec</th>\n",
       "      <th>Situa��o Inscri��o Fies</th>\n",
       "      <th>Percentual de financiamento</th>\n",
       "      <th>Semestre do financiamento</th>\n",
       "      <th>Qtde semestre financiado</th>\n",
       "    </tr>\n",
       "    <tr>\n",
       "      <th>ID do estudante</th>\n",
       "      <th></th>\n",
       "      <th></th>\n",
       "      <th></th>\n",
       "      <th></th>\n",
       "      <th></th>\n",
       "      <th></th>\n",
       "      <th></th>\n",
       "      <th></th>\n",
       "      <th></th>\n",
       "      <th></th>\n",
       "      <th></th>\n",
       "      <th></th>\n",
       "      <th></th>\n",
       "      <th></th>\n",
       "      <th></th>\n",
       "      <th></th>\n",
       "      <th></th>\n",
       "      <th></th>\n",
       "      <th></th>\n",
       "      <th></th>\n",
       "      <th></th>\n",
       "      <th></th>\n",
       "      <th></th>\n",
       "      <th></th>\n",
       "      <th></th>\n",
       "      <th></th>\n",
       "      <th></th>\n",
       "      <th></th>\n",
       "      <th></th>\n",
       "      <th></th>\n",
       "      <th></th>\n",
       "      <th></th>\n",
       "      <th></th>\n",
       "      <th></th>\n",
       "      <th></th>\n",
       "      <th></th>\n",
       "      <th></th>\n",
       "      <th></th>\n",
       "      <th></th>\n",
       "      <th></th>\n",
       "      <th></th>\n",
       "      <th></th>\n",
       "      <th></th>\n",
       "      <th></th>\n",
       "      <th></th>\n",
       "      <th></th>\n",
       "      <th></th>\n",
       "      <th></th>\n",
       "      <th></th>\n",
       "      <th></th>\n",
       "      <th></th>\n",
       "      <th></th>\n",
       "      <th></th>\n",
       "      <th></th>\n",
       "      <th></th>\n",
       "      <th></th>\n",
       "    </tr>\n",
       "  </thead>\n",
       "  <tbody>\n",
       "    <tr>\n",
       "      <th>281805657</th>\n",
       "      <td>2021</td>\n",
       "      <td>2</td>\n",
       "      <td>M</td>\n",
       "      <td>2000-05-15</td>\n",
       "      <td>PR</td>\n",
       "      <td>COLOMBO</td>\n",
       "      <td>PARDA</td>\n",
       "      <td>N�O</td>\n",
       "      <td>SIM</td>\n",
       "      <td>2017</td>\n",
       "      <td>N�O</td>\n",
       "      <td>N�O</td>\n",
       "      <td>2</td>\n",
       "      <td>4253,03</td>\n",
       "      <td>1417,68</td>\n",
       "      <td>SUL</td>\n",
       "      <td>PARAN�</td>\n",
       "      <td>41037</td>\n",
       "      <td>CURITIBA</td>\n",
       "      <td>4110</td>\n",
       "      <td>METROPOLITANA DE CURITIBA</td>\n",
       "      <td>5</td>\n",
       "      <td>CURSOS NAO PRIORITARIOS</td>\n",
       "      <td>DIREITO, COM�RCIO EXTERIOR, BIBLIOTECONOMIA E ...</td>\n",
       "      <td>125824</td>\n",
       "      <td>620,72</td>\n",
       "      <td>1</td>\n",
       "      <td>ASSOCIACAO PARANAENSE DE CULTURA - APC</td>\n",
       "      <td>PESSOA JUR�DICA DE DIREITO PRIVADO - SEM FINS ...</td>\n",
       "      <td>76659820000151</td>\n",
       "      <td>10</td>\n",
       "      <td>PONTIF�CIA UNIVERSIDADE CAT�LICA DO PARAN�</td>\n",
       "      <td>10</td>\n",
       "      <td>UNIVERSIDADE</td>\n",
       "      <td>CURITIBA</td>\n",
       "      <td>PR</td>\n",
       "      <td>PUCPR - CAMPUS CURITIBA</td>\n",
       "      <td>657676</td>\n",
       "      <td>CURITIBA</td>\n",
       "      <td>PR</td>\n",
       "      <td>857</td>\n",
       "      <td>DIREITO</td>\n",
       "      <td>NOTURNO</td>\n",
       "      <td>SEMESTRAL</td>\n",
       "      <td>5</td>\n",
       "      <td>624,1</td>\n",
       "      <td>2020</td>\n",
       "      <td>640</td>\n",
       "      <td>675,4</td>\n",
       "      <td>643,2</td>\n",
       "      <td>539,7</td>\n",
       "      <td>622,2</td>\n",
       "      <td>N�O CONTRATADO</td>\n",
       "      <td>None</td>\n",
       "      <td></td>\n",
       "      <td>NaN</td>\n",
       "    </tr>\n",
       "    <tr>\n",
       "      <th>281805657</th>\n",
       "      <td>2021</td>\n",
       "      <td>2</td>\n",
       "      <td>M</td>\n",
       "      <td>2000-05-15</td>\n",
       "      <td>PR</td>\n",
       "      <td>COLOMBO</td>\n",
       "      <td>PARDA</td>\n",
       "      <td>N�O</td>\n",
       "      <td>SIM</td>\n",
       "      <td>2017</td>\n",
       "      <td>N�O</td>\n",
       "      <td>N�O</td>\n",
       "      <td>2</td>\n",
       "      <td>4253,03</td>\n",
       "      <td>1417,68</td>\n",
       "      <td>SUL</td>\n",
       "      <td>PARAN�</td>\n",
       "      <td>41037</td>\n",
       "      <td>CURITIBA</td>\n",
       "      <td>4110</td>\n",
       "      <td>METROPOLITANA DE CURITIBA</td>\n",
       "      <td>5</td>\n",
       "      <td>CURSOS NAO PRIORITARIOS</td>\n",
       "      <td>DIREITO, COM�RCIO EXTERIOR, BIBLIOTECONOMIA E ...</td>\n",
       "      <td>125824</td>\n",
       "      <td>620,72</td>\n",
       "      <td>2</td>\n",
       "      <td>ASSOCIACAO PARANAENSE DE CULTURA - APC</td>\n",
       "      <td>PESSOA JUR�DICA DE DIREITO PRIVADO - SEM FINS ...</td>\n",
       "      <td>76659820000151</td>\n",
       "      <td>10</td>\n",
       "      <td>PONTIF�CIA UNIVERSIDADE CAT�LICA DO PARAN�</td>\n",
       "      <td>10</td>\n",
       "      <td>UNIVERSIDADE</td>\n",
       "      <td>CURITIBA</td>\n",
       "      <td>PR</td>\n",
       "      <td>PUCPR - CAMPUS CURITIBA</td>\n",
       "      <td>657676</td>\n",
       "      <td>CURITIBA</td>\n",
       "      <td>PR</td>\n",
       "      <td>857</td>\n",
       "      <td>DIREITO</td>\n",
       "      <td>MATUTINO</td>\n",
       "      <td>SEMESTRAL</td>\n",
       "      <td>5</td>\n",
       "      <td>624,1</td>\n",
       "      <td>2020</td>\n",
       "      <td>640</td>\n",
       "      <td>675,4</td>\n",
       "      <td>643,2</td>\n",
       "      <td>539,7</td>\n",
       "      <td>622,2</td>\n",
       "      <td>N�O CONTRATADO</td>\n",
       "      <td>None</td>\n",
       "      <td></td>\n",
       "      <td>NaN</td>\n",
       "    </tr>\n",
       "    <tr>\n",
       "      <th>351067941</th>\n",
       "      <td>2021</td>\n",
       "      <td>2</td>\n",
       "      <td>M</td>\n",
       "      <td>2094-07-10</td>\n",
       "      <td>PR</td>\n",
       "      <td>CURITIBA</td>\n",
       "      <td>BRANCA</td>\n",
       "      <td>N�O</td>\n",
       "      <td>N�O</td>\n",
       "      <td>2011</td>\n",
       "      <td>SIM</td>\n",
       "      <td>N�O</td>\n",
       "      <td>0</td>\n",
       "      <td>None</td>\n",
       "      <td>1600</td>\n",
       "      <td>SUL</td>\n",
       "      <td>PARAN�</td>\n",
       "      <td>41037</td>\n",
       "      <td>CURITIBA</td>\n",
       "      <td>4110</td>\n",
       "      <td>METROPOLITANA DE CURITIBA</td>\n",
       "      <td>5</td>\n",
       "      <td>CURSOS NAO PRIORITARIOS</td>\n",
       "      <td>DIREITO, COM�RCIO EXTERIOR, BIBLIOTECONOMIA E ...</td>\n",
       "      <td>125824</td>\n",
       "      <td>620,72</td>\n",
       "      <td>2</td>\n",
       "      <td>ASSOCIACAO PARANAENSE DE CULTURA - APC</td>\n",
       "      <td>PESSOA JUR�DICA DE DIREITO PRIVADO - SEM FINS ...</td>\n",
       "      <td>76659820000151</td>\n",
       "      <td>10</td>\n",
       "      <td>PONTIF�CIA UNIVERSIDADE CAT�LICA DO PARAN�</td>\n",
       "      <td>10</td>\n",
       "      <td>UNIVERSIDADE</td>\n",
       "      <td>CURITIBA</td>\n",
       "      <td>PR</td>\n",
       "      <td>PUCPR - CAMPUS CURITIBA</td>\n",
       "      <td>657676</td>\n",
       "      <td>CURITIBA</td>\n",
       "      <td>PR</td>\n",
       "      <td>857</td>\n",
       "      <td>DIREITO</td>\n",
       "      <td>NOTURNO</td>\n",
       "      <td>SEMESTRAL</td>\n",
       "      <td>5</td>\n",
       "      <td>701,82</td>\n",
       "      <td>2011</td>\n",
       "      <td>900</td>\n",
       "      <td>758,1</td>\n",
       "      <td>646,9</td>\n",
       "      <td>598,4</td>\n",
       "      <td>605,7</td>\n",
       "      <td>PARTICIPACAO CANCELADA PELO CANDIDATO</td>\n",
       "      <td>None</td>\n",
       "      <td></td>\n",
       "      <td>NaN</td>\n",
       "    </tr>\n",
       "    <tr>\n",
       "      <th>205906170</th>\n",
       "      <td>2021</td>\n",
       "      <td>2</td>\n",
       "      <td>M</td>\n",
       "      <td>2089-09-25</td>\n",
       "      <td>PR</td>\n",
       "      <td>CURITIBA</td>\n",
       "      <td>BRANCA</td>\n",
       "      <td>N�O</td>\n",
       "      <td>SIM</td>\n",
       "      <td>2004</td>\n",
       "      <td>N�O</td>\n",
       "      <td>N�O</td>\n",
       "      <td>1</td>\n",
       "      <td>1574,07</td>\n",
       "      <td>787,04</td>\n",
       "      <td>SUL</td>\n",
       "      <td>PARAN�</td>\n",
       "      <td>41037</td>\n",
       "      <td>CURITIBA</td>\n",
       "      <td>4110</td>\n",
       "      <td>METROPOLITANA DE CURITIBA</td>\n",
       "      <td>5</td>\n",
       "      <td>CURSOS NAO PRIORITARIOS</td>\n",
       "      <td>DIREITO, COM�RCIO EXTERIOR, BIBLIOTECONOMIA E ...</td>\n",
       "      <td>125824</td>\n",
       "      <td>620,72</td>\n",
       "      <td>2</td>\n",
       "      <td>ASSOCIACAO PARANAENSE DE CULTURA - APC</td>\n",
       "      <td>PESSOA JUR�DICA DE DIREITO PRIVADO - SEM FINS ...</td>\n",
       "      <td>76659820000151</td>\n",
       "      <td>10</td>\n",
       "      <td>PONTIF�CIA UNIVERSIDADE CAT�LICA DO PARAN�</td>\n",
       "      <td>10</td>\n",
       "      <td>UNIVERSIDADE</td>\n",
       "      <td>CURITIBA</td>\n",
       "      <td>PR</td>\n",
       "      <td>PUCPR - CAMPUS CURITIBA</td>\n",
       "      <td>657676</td>\n",
       "      <td>CURITIBA</td>\n",
       "      <td>PR</td>\n",
       "      <td>857</td>\n",
       "      <td>DIREITO</td>\n",
       "      <td>MATUTINO</td>\n",
       "      <td>SEMESTRAL</td>\n",
       "      <td>5</td>\n",
       "      <td>598,54</td>\n",
       "      <td>2020</td>\n",
       "      <td>540</td>\n",
       "      <td>609,8</td>\n",
       "      <td>610,7</td>\n",
       "      <td>586</td>\n",
       "      <td>646,2</td>\n",
       "      <td>OP��O N�O CONTRATADA</td>\n",
       "      <td>None</td>\n",
       "      <td>None</td>\n",
       "      <td>10.0</td>\n",
       "    </tr>\n",
       "    <tr>\n",
       "      <th>351067085</th>\n",
       "      <td>2021</td>\n",
       "      <td>2</td>\n",
       "      <td>F</td>\n",
       "      <td>2099-07-20</td>\n",
       "      <td>PR</td>\n",
       "      <td>PARANAGU�</td>\n",
       "      <td>BRANCA</td>\n",
       "      <td>N�O</td>\n",
       "      <td>SIM</td>\n",
       "      <td>2016</td>\n",
       "      <td>N�O</td>\n",
       "      <td>N�O</td>\n",
       "      <td>2</td>\n",
       "      <td>2500</td>\n",
       "      <td>833,33</td>\n",
       "      <td>SUL</td>\n",
       "      <td>PARAN�</td>\n",
       "      <td>41037</td>\n",
       "      <td>CURITIBA</td>\n",
       "      <td>4110</td>\n",
       "      <td>METROPOLITANA DE CURITIBA</td>\n",
       "      <td>5</td>\n",
       "      <td>CURSOS NAO PRIORITARIOS</td>\n",
       "      <td>DIREITO, COM�RCIO EXTERIOR, BIBLIOTECONOMIA E ...</td>\n",
       "      <td>125824</td>\n",
       "      <td>620,72</td>\n",
       "      <td>1</td>\n",
       "      <td>ASSOCIACAO PARANAENSE DE CULTURA - APC</td>\n",
       "      <td>PESSOA JUR�DICA DE DIREITO PRIVADO - SEM FINS ...</td>\n",
       "      <td>76659820000151</td>\n",
       "      <td>10</td>\n",
       "      <td>PONTIF�CIA UNIVERSIDADE CAT�LICA DO PARAN�</td>\n",
       "      <td>10</td>\n",
       "      <td>UNIVERSIDADE</td>\n",
       "      <td>CURITIBA</td>\n",
       "      <td>PR</td>\n",
       "      <td>PUCPR - CAMPUS CURITIBA</td>\n",
       "      <td>657676</td>\n",
       "      <td>CURITIBA</td>\n",
       "      <td>PR</td>\n",
       "      <td>857</td>\n",
       "      <td>DIREITO</td>\n",
       "      <td>NOTURNO</td>\n",
       "      <td>SEMESTRAL</td>\n",
       "      <td>5</td>\n",
       "      <td>512,16</td>\n",
       "      <td>2017</td>\n",
       "      <td>680</td>\n",
       "      <td>408,6</td>\n",
       "      <td>499,8</td>\n",
       "      <td>484,5</td>\n",
       "      <td>487,9</td>\n",
       "      <td>N�O CONTRATADO</td>\n",
       "      <td>None</td>\n",
       "      <td></td>\n",
       "      <td>NaN</td>\n",
       "    </tr>\n",
       "  </tbody>\n",
       "</table>\n",
       "</div>"
      ]
     },
     "metadata": {
      "application/vnd.databricks.v1+output": {
       "addedWidgets": {},
       "arguments": {},
       "data": "<div>\n<style scoped>\n    .dataframe tbody tr th:only-of-type {\n        vertical-align: middle;\n    }\n\n    .dataframe tbody tr th {\n        vertical-align: top;\n    }\n\n    .dataframe thead th {\n        text-align: right;\n    }\n</style>\n<table border=\"1\" class=\"dataframe\">\n  <thead>\n    <tr style=\"text-align: right;\">\n      <th></th>\n      <th>Ano do processo seletivo</th>\n      <th>Semestre do processo seletivo</th>\n      <th>Sexo</th>\n      <th>Data de Nascimento</th>\n      <th>UF de resid�ncia</th>\n      <th>Municipio de resid�ncia</th>\n      <th>Etnia/Cor</th>\n      <th>Pessoa com defici�ncia?</th>\n      <th>Tipo de escola no ensino m�dio</th>\n      <th>Ano conclus�o ensino m�dio</th>\n      <th>Concluiu curso superior?</th>\n      <th>Professor rede p�blica ensino?</th>\n      <th>N� de membros Grupo Familiar</th>\n      <th>Renda familiar mensal bruta</th>\n      <th>Renda mensal bruta per capita</th>\n      <th>Regi�o grupo de prefer�ncia</th>\n      <th>UF</th>\n      <th>Cod.Microrregi�o</th>\n      <th>Microrregi�o</th>\n      <th>Cod.Mesorregi�o</th>\n      <th>Mesorregi�o</th>\n      <th>Conceito de curso do GP</th>\n      <th>�rea do conhecimento</th>\n      <th>Sub�rea do conhecimento</th>\n      <th>Cod. do Grupo de prefer�ncia</th>\n      <th>Nota Corte Grupo Prefer�ncia</th>\n      <th>Op��es de cursos da inscri��o</th>\n      <th>Nome mantenedora</th>\n      <th>Natureza Jur�dica Mantenedora</th>\n      <th>CNPJ da mantenedora</th>\n      <th>C�digo e-MEC da Mantenedora</th>\n      <th>Nome da IES</th>\n      <th>C�digo e-MEC da IES</th>\n      <th>Organiza��o Acad�mica da IES</th>\n      <th>Munic�pio da IES</th>\n      <th>UF da IES</th>\n      <th>Nome do Local de oferta</th>\n      <th>C�digo do Local de Oferta</th>\n      <th>Mun�cipio do Local de Oferta</th>\n      <th>UF do Local de Oferta</th>\n      <th>C�digo do curso</th>\n      <th>Nome do curso</th>\n      <th>Turno</th>\n      <th>Grau</th>\n      <th>Conceito</th>\n      <th>M�dia nota Enem</th>\n      <th>Ano do Enem</th>\n      <th>Reda��o</th>\n      <th>Matem�tica e suas Tecnologias</th>\n      <th>Linguagens, C�digos e suas Tec</th>\n      <th>Ci�ncias Natureza e suas Tec</th>\n      <th>Ci�ncias Humanas e suas Tec</th>\n      <th>Situa��o Inscri��o Fies</th>\n      <th>Percentual de financiamento</th>\n      <th>Semestre do financiamento</th>\n      <th>Qtde semestre financiado</th>\n    </tr>\n    <tr>\n      <th>ID do estudante</th>\n      <th></th>\n      <th></th>\n      <th></th>\n      <th></th>\n      <th></th>\n      <th></th>\n      <th></th>\n      <th></th>\n      <th></th>\n      <th></th>\n      <th></th>\n      <th></th>\n      <th></th>\n      <th></th>\n      <th></th>\n      <th></th>\n      <th></th>\n      <th></th>\n      <th></th>\n      <th></th>\n      <th></th>\n      <th></th>\n      <th></th>\n      <th></th>\n      <th></th>\n      <th></th>\n      <th></th>\n      <th></th>\n      <th></th>\n      <th></th>\n      <th></th>\n      <th></th>\n      <th></th>\n      <th></th>\n      <th></th>\n      <th></th>\n      <th></th>\n      <th></th>\n      <th></th>\n      <th></th>\n      <th></th>\n      <th></th>\n      <th></th>\n      <th></th>\n      <th></th>\n      <th></th>\n      <th></th>\n      <th></th>\n      <th></th>\n      <th></th>\n      <th></th>\n      <th></th>\n      <th></th>\n      <th></th>\n      <th></th>\n      <th></th>\n    </tr>\n  </thead>\n  <tbody>\n    <tr>\n      <th>281805657</th>\n      <td>2021</td>\n      <td>2</td>\n      <td>M</td>\n      <td>2000-05-15</td>\n      <td>PR</td>\n      <td>COLOMBO</td>\n      <td>PARDA</td>\n      <td>N�O</td>\n      <td>SIM</td>\n      <td>2017</td>\n      <td>N�O</td>\n      <td>N�O</td>\n      <td>2</td>\n      <td>4253,03</td>\n      <td>1417,68</td>\n      <td>SUL</td>\n      <td>PARAN�</td>\n      <td>41037</td>\n      <td>CURITIBA</td>\n      <td>4110</td>\n      <td>METROPOLITANA DE CURITIBA</td>\n      <td>5</td>\n      <td>CURSOS NAO PRIORITARIOS</td>\n      <td>DIREITO, COM�RCIO EXTERIOR, BIBLIOTECONOMIA E ...</td>\n      <td>125824</td>\n      <td>620,72</td>\n      <td>1</td>\n      <td>ASSOCIACAO PARANAENSE DE CULTURA - APC</td>\n      <td>PESSOA JUR�DICA DE DIREITO PRIVADO - SEM FINS ...</td>\n      <td>76659820000151</td>\n      <td>10</td>\n      <td>PONTIF�CIA UNIVERSIDADE CAT�LICA DO PARAN�</td>\n      <td>10</td>\n      <td>UNIVERSIDADE</td>\n      <td>CURITIBA</td>\n      <td>PR</td>\n      <td>PUCPR - CAMPUS CURITIBA</td>\n      <td>657676</td>\n      <td>CURITIBA</td>\n      <td>PR</td>\n      <td>857</td>\n      <td>DIREITO</td>\n      <td>NOTURNO</td>\n      <td>SEMESTRAL</td>\n      <td>5</td>\n      <td>624,1</td>\n      <td>2020</td>\n      <td>640</td>\n      <td>675,4</td>\n      <td>643,2</td>\n      <td>539,7</td>\n      <td>622,2</td>\n      <td>N�O CONTRATADO</td>\n      <td>None</td>\n      <td></td>\n      <td>NaN</td>\n    </tr>\n    <tr>\n      <th>281805657</th>\n      <td>2021</td>\n      <td>2</td>\n      <td>M</td>\n      <td>2000-05-15</td>\n      <td>PR</td>\n      <td>COLOMBO</td>\n      <td>PARDA</td>\n      <td>N�O</td>\n      <td>SIM</td>\n      <td>2017</td>\n      <td>N�O</td>\n      <td>N�O</td>\n      <td>2</td>\n      <td>4253,03</td>\n      <td>1417,68</td>\n      <td>SUL</td>\n      <td>PARAN�</td>\n      <td>41037</td>\n      <td>CURITIBA</td>\n      <td>4110</td>\n      <td>METROPOLITANA DE CURITIBA</td>\n      <td>5</td>\n      <td>CURSOS NAO PRIORITARIOS</td>\n      <td>DIREITO, COM�RCIO EXTERIOR, BIBLIOTECONOMIA E ...</td>\n      <td>125824</td>\n      <td>620,72</td>\n      <td>2</td>\n      <td>ASSOCIACAO PARANAENSE DE CULTURA - APC</td>\n      <td>PESSOA JUR�DICA DE DIREITO PRIVADO - SEM FINS ...</td>\n      <td>76659820000151</td>\n      <td>10</td>\n      <td>PONTIF�CIA UNIVERSIDADE CAT�LICA DO PARAN�</td>\n      <td>10</td>\n      <td>UNIVERSIDADE</td>\n      <td>CURITIBA</td>\n      <td>PR</td>\n      <td>PUCPR - CAMPUS CURITIBA</td>\n      <td>657676</td>\n      <td>CURITIBA</td>\n      <td>PR</td>\n      <td>857</td>\n      <td>DIREITO</td>\n      <td>MATUTINO</td>\n      <td>SEMESTRAL</td>\n      <td>5</td>\n      <td>624,1</td>\n      <td>2020</td>\n      <td>640</td>\n      <td>675,4</td>\n      <td>643,2</td>\n      <td>539,7</td>\n      <td>622,2</td>\n      <td>N�O CONTRATADO</td>\n      <td>None</td>\n      <td></td>\n      <td>NaN</td>\n    </tr>\n    <tr>\n      <th>351067941</th>\n      <td>2021</td>\n      <td>2</td>\n      <td>M</td>\n      <td>2094-07-10</td>\n      <td>PR</td>\n      <td>CURITIBA</td>\n      <td>BRANCA</td>\n      <td>N�O</td>\n      <td>N�O</td>\n      <td>2011</td>\n      <td>SIM</td>\n      <td>N�O</td>\n      <td>0</td>\n      <td>None</td>\n      <td>1600</td>\n      <td>SUL</td>\n      <td>PARAN�</td>\n      <td>41037</td>\n      <td>CURITIBA</td>\n      <td>4110</td>\n      <td>METROPOLITANA DE CURITIBA</td>\n      <td>5</td>\n      <td>CURSOS NAO PRIORITARIOS</td>\n      <td>DIREITO, COM�RCIO EXTERIOR, BIBLIOTECONOMIA E ...</td>\n      <td>125824</td>\n      <td>620,72</td>\n      <td>2</td>\n      <td>ASSOCIACAO PARANAENSE DE CULTURA - APC</td>\n      <td>PESSOA JUR�DICA DE DIREITO PRIVADO - SEM FINS ...</td>\n      <td>76659820000151</td>\n      <td>10</td>\n      <td>PONTIF�CIA UNIVERSIDADE CAT�LICA DO PARAN�</td>\n      <td>10</td>\n      <td>UNIVERSIDADE</td>\n      <td>CURITIBA</td>\n      <td>PR</td>\n      <td>PUCPR - CAMPUS CURITIBA</td>\n      <td>657676</td>\n      <td>CURITIBA</td>\n      <td>PR</td>\n      <td>857</td>\n      <td>DIREITO</td>\n      <td>NOTURNO</td>\n      <td>SEMESTRAL</td>\n      <td>5</td>\n      <td>701,82</td>\n      <td>2011</td>\n      <td>900</td>\n      <td>758,1</td>\n      <td>646,9</td>\n      <td>598,4</td>\n      <td>605,7</td>\n      <td>PARTICIPACAO CANCELADA PELO CANDIDATO</td>\n      <td>None</td>\n      <td></td>\n      <td>NaN</td>\n    </tr>\n    <tr>\n      <th>205906170</th>\n      <td>2021</td>\n      <td>2</td>\n      <td>M</td>\n      <td>2089-09-25</td>\n      <td>PR</td>\n      <td>CURITIBA</td>\n      <td>BRANCA</td>\n      <td>N�O</td>\n      <td>SIM</td>\n      <td>2004</td>\n      <td>N�O</td>\n      <td>N�O</td>\n      <td>1</td>\n      <td>1574,07</td>\n      <td>787,04</td>\n      <td>SUL</td>\n      <td>PARAN�</td>\n      <td>41037</td>\n      <td>CURITIBA</td>\n      <td>4110</td>\n      <td>METROPOLITANA DE CURITIBA</td>\n      <td>5</td>\n      <td>CURSOS NAO PRIORITARIOS</td>\n      <td>DIREITO, COM�RCIO EXTERIOR, BIBLIOTECONOMIA E ...</td>\n      <td>125824</td>\n      <td>620,72</td>\n      <td>2</td>\n      <td>ASSOCIACAO PARANAENSE DE CULTURA - APC</td>\n      <td>PESSOA JUR�DICA DE DIREITO PRIVADO - SEM FINS ...</td>\n      <td>76659820000151</td>\n      <td>10</td>\n      <td>PONTIF�CIA UNIVERSIDADE CAT�LICA DO PARAN�</td>\n      <td>10</td>\n      <td>UNIVERSIDADE</td>\n      <td>CURITIBA</td>\n      <td>PR</td>\n      <td>PUCPR - CAMPUS CURITIBA</td>\n      <td>657676</td>\n      <td>CURITIBA</td>\n      <td>PR</td>\n      <td>857</td>\n      <td>DIREITO</td>\n      <td>MATUTINO</td>\n      <td>SEMESTRAL</td>\n      <td>5</td>\n      <td>598,54</td>\n      <td>2020</td>\n      <td>540</td>\n      <td>609,8</td>\n      <td>610,7</td>\n      <td>586</td>\n      <td>646,2</td>\n      <td>OP��O N�O CONTRATADA</td>\n      <td>None</td>\n      <td>None</td>\n      <td>10.0</td>\n    </tr>\n    <tr>\n      <th>351067085</th>\n      <td>2021</td>\n      <td>2</td>\n      <td>F</td>\n      <td>2099-07-20</td>\n      <td>PR</td>\n      <td>PARANAGU�</td>\n      <td>BRANCA</td>\n      <td>N�O</td>\n      <td>SIM</td>\n      <td>2016</td>\n      <td>N�O</td>\n      <td>N�O</td>\n      <td>2</td>\n      <td>2500</td>\n      <td>833,33</td>\n      <td>SUL</td>\n      <td>PARAN�</td>\n      <td>41037</td>\n      <td>CURITIBA</td>\n      <td>4110</td>\n      <td>METROPOLITANA DE CURITIBA</td>\n      <td>5</td>\n      <td>CURSOS NAO PRIORITARIOS</td>\n      <td>DIREITO, COM�RCIO EXTERIOR, BIBLIOTECONOMIA E ...</td>\n      <td>125824</td>\n      <td>620,72</td>\n      <td>1</td>\n      <td>ASSOCIACAO PARANAENSE DE CULTURA - APC</td>\n      <td>PESSOA JUR�DICA DE DIREITO PRIVADO - SEM FINS ...</td>\n      <td>76659820000151</td>\n      <td>10</td>\n      <td>PONTIF�CIA UNIVERSIDADE CAT�LICA DO PARAN�</td>\n      <td>10</td>\n      <td>UNIVERSIDADE</td>\n      <td>CURITIBA</td>\n      <td>PR</td>\n      <td>PUCPR - CAMPUS CURITIBA</td>\n      <td>657676</td>\n      <td>CURITIBA</td>\n      <td>PR</td>\n      <td>857</td>\n      <td>DIREITO</td>\n      <td>NOTURNO</td>\n      <td>SEMESTRAL</td>\n      <td>5</td>\n      <td>512,16</td>\n      <td>2017</td>\n      <td>680</td>\n      <td>408,6</td>\n      <td>499,8</td>\n      <td>484,5</td>\n      <td>487,9</td>\n      <td>N�O CONTRATADO</td>\n      <td>None</td>\n      <td></td>\n      <td>NaN</td>\n    </tr>\n  </tbody>\n</table>\n</div>",
       "datasetInfos": [],
       "metadata": {},
       "removedWidgets": [],
       "textData": null,
       "type": "htmlSandbox"
      }
     },
     "output_type": "display_data"
    }
   ],
   "source": [
    "df.head()"
   ]
  },
  {
   "cell_type": "code",
   "execution_count": 0,
   "metadata": {
    "application/vnd.databricks.v1+cell": {
     "cellMetadata": {
      "byteLimit": 2048000,
      "rowLimit": 10000
     },
     "inputWidgets": {},
     "nuid": "64062117-e4f1-413f-9202-0bc7b312b6ff",
     "showTitle": false,
     "tableResultSettingsMap": {},
     "title": ""
    }
   },
   "outputs": [],
   "source": [
    "#Derrubar todos os valores NaN\n",
    "df.dropna(inplace=True)"
   ]
  },
  {
   "cell_type": "code",
   "execution_count": 0,
   "metadata": {
    "application/vnd.databricks.v1+cell": {
     "cellMetadata": {
      "byteLimit": 2048000,
      "rowLimit": 10000
     },
     "inputWidgets": {},
     "nuid": "1aad970c-1e62-4fc7-8675-5cbcc9ebaf6f",
     "showTitle": false,
     "tableResultSettingsMap": {},
     "title": ""
    }
   },
   "outputs": [],
   "source": [
    "#Serve para entender a proporção entre homens e mulheres\n",
    "resultado = ps.sql('''\n",
    "                   SELECT Sexo, COUNT(Sexo) AS Total\n",
    "                   FROM {DF}\n",
    "                   GROUP BY Sexo\n",
    "                   ''', DF=df)"
   ]
  },
  {
   "cell_type": "code",
   "execution_count": 0,
   "metadata": {
    "application/vnd.databricks.v1+cell": {
     "cellMetadata": {
      "byteLimit": 2048000,
      "rowLimit": 10000
     },
     "inputWidgets": {},
     "nuid": "37752787-d217-46c8-a5e6-006f47be1401",
     "showTitle": false,
     "tableResultSettingsMap": {},
     "title": ""
    }
   },
   "outputs": [
    {
     "output_type": "display_data",
     "data": {
      "text/html": [
       "<html>\n",
       "<head><meta charset=\"utf-8\" /></head>\n",
       "<body>\n",
       "    <div>            <script src=\"https://cdnjs.cloudflare.com/ajax/libs/mathjax/2.7.5/MathJax.js?config=TeX-AMS-MML_SVG\"></script><script type=\"text/javascript\">if (window.MathJax) {MathJax.Hub.Config({SVG: {font: \"STIX-Web\"}});}</script>                <script type=\"text/javascript\">window.PlotlyConfig = {MathJaxConfig: 'local'};</script>\n",
       "        <script src=\"https://cdn.plot.ly/plotly-2.9.0.min.js\"></script>                <div id=\"52a52915-e1aa-4ae6-a8e3-6fffd4ad6ec6\" class=\"plotly-graph-div\" style=\"height:100%; width:100%;\"></div>            <script type=\"text/javascript\">                                    window.PLOTLYENV=window.PLOTLYENV || {};                                    if (document.getElementById(\"52a52915-e1aa-4ae6-a8e3-6fffd4ad6ec6\")) {                    Plotly.newPlot(                        \"52a52915-e1aa-4ae6-a8e3-6fffd4ad6ec6\",                        [{\"alignmentgroup\":\"True\",\"hovertemplate\":\"Sexo=%{x}<br>Total=%{y}<extra></extra>\",\"legendgroup\":\"\",\"marker\":{\"color\":\"#636efa\",\"pattern\":{\"shape\":\"\"}},\"name\":\"\",\"offsetgroup\":\"\",\"orientation\":\"v\",\"showlegend\":false,\"textposition\":\"auto\",\"x\":[\"F\",\"M\"],\"xaxis\":\"x\",\"y\":[14675,6199],\"yaxis\":\"y\",\"type\":\"bar\"}],                        {\"template\":{\"data\":{\"bar\":[{\"error_x\":{\"color\":\"#2a3f5f\"},\"error_y\":{\"color\":\"#2a3f5f\"},\"marker\":{\"line\":{\"color\":\"#E5ECF6\",\"width\":0.5},\"pattern\":{\"fillmode\":\"overlay\",\"size\":10,\"solidity\":0.2}},\"type\":\"bar\"}],\"barpolar\":[{\"marker\":{\"line\":{\"color\":\"#E5ECF6\",\"width\":0.5},\"pattern\":{\"fillmode\":\"overlay\",\"size\":10,\"solidity\":0.2}},\"type\":\"barpolar\"}],\"carpet\":[{\"aaxis\":{\"endlinecolor\":\"#2a3f5f\",\"gridcolor\":\"white\",\"linecolor\":\"white\",\"minorgridcolor\":\"white\",\"startlinecolor\":\"#2a3f5f\"},\"baxis\":{\"endlinecolor\":\"#2a3f5f\",\"gridcolor\":\"white\",\"linecolor\":\"white\",\"minorgridcolor\":\"white\",\"startlinecolor\":\"#2a3f5f\"},\"type\":\"carpet\"}],\"choropleth\":[{\"colorbar\":{\"outlinewidth\":0,\"ticks\":\"\"},\"type\":\"choropleth\"}],\"contour\":[{\"colorbar\":{\"outlinewidth\":0,\"ticks\":\"\"},\"colorscale\":[[0.0,\"#0d0887\"],[0.1111111111111111,\"#46039f\"],[0.2222222222222222,\"#7201a8\"],[0.3333333333333333,\"#9c179e\"],[0.4444444444444444,\"#bd3786\"],[0.5555555555555556,\"#d8576b\"],[0.6666666666666666,\"#ed7953\"],[0.7777777777777778,\"#fb9f3a\"],[0.8888888888888888,\"#fdca26\"],[1.0,\"#f0f921\"]],\"type\":\"contour\"}],\"contourcarpet\":[{\"colorbar\":{\"outlinewidth\":0,\"ticks\":\"\"},\"type\":\"contourcarpet\"}],\"heatmap\":[{\"colorbar\":{\"outlinewidth\":0,\"ticks\":\"\"},\"colorscale\":[[0.0,\"#0d0887\"],[0.1111111111111111,\"#46039f\"],[0.2222222222222222,\"#7201a8\"],[0.3333333333333333,\"#9c179e\"],[0.4444444444444444,\"#bd3786\"],[0.5555555555555556,\"#d8576b\"],[0.6666666666666666,\"#ed7953\"],[0.7777777777777778,\"#fb9f3a\"],[0.8888888888888888,\"#fdca26\"],[1.0,\"#f0f921\"]],\"type\":\"heatmap\"}],\"heatmapgl\":[{\"colorbar\":{\"outlinewidth\":0,\"ticks\":\"\"},\"colorscale\":[[0.0,\"#0d0887\"],[0.1111111111111111,\"#46039f\"],[0.2222222222222222,\"#7201a8\"],[0.3333333333333333,\"#9c179e\"],[0.4444444444444444,\"#bd3786\"],[0.5555555555555556,\"#d8576b\"],[0.6666666666666666,\"#ed7953\"],[0.7777777777777778,\"#fb9f3a\"],[0.8888888888888888,\"#fdca26\"],[1.0,\"#f0f921\"]],\"type\":\"heatmapgl\"}],\"histogram\":[{\"marker\":{\"pattern\":{\"fillmode\":\"overlay\",\"size\":10,\"solidity\":0.2}},\"type\":\"histogram\"}],\"histogram2d\":[{\"colorbar\":{\"outlinewidth\":0,\"ticks\":\"\"},\"colorscale\":[[0.0,\"#0d0887\"],[0.1111111111111111,\"#46039f\"],[0.2222222222222222,\"#7201a8\"],[0.3333333333333333,\"#9c179e\"],[0.4444444444444444,\"#bd3786\"],[0.5555555555555556,\"#d8576b\"],[0.6666666666666666,\"#ed7953\"],[0.7777777777777778,\"#fb9f3a\"],[0.8888888888888888,\"#fdca26\"],[1.0,\"#f0f921\"]],\"type\":\"histogram2d\"}],\"histogram2dcontour\":[{\"colorbar\":{\"outlinewidth\":0,\"ticks\":\"\"},\"colorscale\":[[0.0,\"#0d0887\"],[0.1111111111111111,\"#46039f\"],[0.2222222222222222,\"#7201a8\"],[0.3333333333333333,\"#9c179e\"],[0.4444444444444444,\"#bd3786\"],[0.5555555555555556,\"#d8576b\"],[0.6666666666666666,\"#ed7953\"],[0.7777777777777778,\"#fb9f3a\"],[0.8888888888888888,\"#fdca26\"],[1.0,\"#f0f921\"]],\"type\":\"histogram2dcontour\"}],\"mesh3d\":[{\"colorbar\":{\"outlinewidth\":0,\"ticks\":\"\"},\"type\":\"mesh3d\"}],\"parcoords\":[{\"line\":{\"colorbar\":{\"outlinewidth\":0,\"ticks\":\"\"}},\"type\":\"parcoords\"}],\"pie\":[{\"automargin\":true,\"type\":\"pie\"}],\"scatter\":[{\"marker\":{\"colorbar\":{\"outlinewidth\":0,\"ticks\":\"\"}},\"type\":\"scatter\"}],\"scatter3d\":[{\"line\":{\"colorbar\":{\"outlinewidth\":0,\"ticks\":\"\"}},\"marker\":{\"colorbar\":{\"outlinewidth\":0,\"ticks\":\"\"}},\"type\":\"scatter3d\"}],\"scattercarpet\":[{\"marker\":{\"colorbar\":{\"outlinewidth\":0,\"ticks\":\"\"}},\"type\":\"scattercarpet\"}],\"scattergeo\":[{\"marker\":{\"colorbar\":{\"outlinewidth\":0,\"ticks\":\"\"}},\"type\":\"scattergeo\"}],\"scattergl\":[{\"marker\":{\"colorbar\":{\"outlinewidth\":0,\"ticks\":\"\"}},\"type\":\"scattergl\"}],\"scattermapbox\":[{\"marker\":{\"colorbar\":{\"outlinewidth\":0,\"ticks\":\"\"}},\"type\":\"scattermapbox\"}],\"scatterpolar\":[{\"marker\":{\"colorbar\":{\"outlinewidth\":0,\"ticks\":\"\"}},\"type\":\"scatterpolar\"}],\"scatterpolargl\":[{\"marker\":{\"colorbar\":{\"outlinewidth\":0,\"ticks\":\"\"}},\"type\":\"scatterpolargl\"}],\"scatterternary\":[{\"marker\":{\"colorbar\":{\"outlinewidth\":0,\"ticks\":\"\"}},\"type\":\"scatterternary\"}],\"surface\":[{\"colorbar\":{\"outlinewidth\":0,\"ticks\":\"\"},\"colorscale\":[[0.0,\"#0d0887\"],[0.1111111111111111,\"#46039f\"],[0.2222222222222222,\"#7201a8\"],[0.3333333333333333,\"#9c179e\"],[0.4444444444444444,\"#bd3786\"],[0.5555555555555556,\"#d8576b\"],[0.6666666666666666,\"#ed7953\"],[0.7777777777777778,\"#fb9f3a\"],[0.8888888888888888,\"#fdca26\"],[1.0,\"#f0f921\"]],\"type\":\"surface\"}],\"table\":[{\"cells\":{\"fill\":{\"color\":\"#EBF0F8\"},\"line\":{\"color\":\"white\"}},\"header\":{\"fill\":{\"color\":\"#C8D4E3\"},\"line\":{\"color\":\"white\"}},\"type\":\"table\"}]},\"layout\":{\"annotationdefaults\":{\"arrowcolor\":\"#2a3f5f\",\"arrowhead\":0,\"arrowwidth\":1},\"autotypenumbers\":\"strict\",\"coloraxis\":{\"colorbar\":{\"outlinewidth\":0,\"ticks\":\"\"}},\"colorscale\":{\"diverging\":[[0,\"#8e0152\"],[0.1,\"#c51b7d\"],[0.2,\"#de77ae\"],[0.3,\"#f1b6da\"],[0.4,\"#fde0ef\"],[0.5,\"#f7f7f7\"],[0.6,\"#e6f5d0\"],[0.7,\"#b8e186\"],[0.8,\"#7fbc41\"],[0.9,\"#4d9221\"],[1,\"#276419\"]],\"sequential\":[[0.0,\"#0d0887\"],[0.1111111111111111,\"#46039f\"],[0.2222222222222222,\"#7201a8\"],[0.3333333333333333,\"#9c179e\"],[0.4444444444444444,\"#bd3786\"],[0.5555555555555556,\"#d8576b\"],[0.6666666666666666,\"#ed7953\"],[0.7777777777777778,\"#fb9f3a\"],[0.8888888888888888,\"#fdca26\"],[1.0,\"#f0f921\"]],\"sequentialminus\":[[0.0,\"#0d0887\"],[0.1111111111111111,\"#46039f\"],[0.2222222222222222,\"#7201a8\"],[0.3333333333333333,\"#9c179e\"],[0.4444444444444444,\"#bd3786\"],[0.5555555555555556,\"#d8576b\"],[0.6666666666666666,\"#ed7953\"],[0.7777777777777778,\"#fb9f3a\"],[0.8888888888888888,\"#fdca26\"],[1.0,\"#f0f921\"]]},\"colorway\":[\"#636efa\",\"#EF553B\",\"#00cc96\",\"#ab63fa\",\"#FFA15A\",\"#19d3f3\",\"#FF6692\",\"#B6E880\",\"#FF97FF\",\"#FECB52\"],\"font\":{\"color\":\"#2a3f5f\"},\"geo\":{\"bgcolor\":\"white\",\"lakecolor\":\"white\",\"landcolor\":\"#E5ECF6\",\"showlakes\":true,\"showland\":true,\"subunitcolor\":\"white\"},\"hoverlabel\":{\"align\":\"left\"},\"hovermode\":\"closest\",\"mapbox\":{\"style\":\"light\"},\"paper_bgcolor\":\"white\",\"plot_bgcolor\":\"#E5ECF6\",\"polar\":{\"angularaxis\":{\"gridcolor\":\"white\",\"linecolor\":\"white\",\"ticks\":\"\"},\"bgcolor\":\"#E5ECF6\",\"radialaxis\":{\"gridcolor\":\"white\",\"linecolor\":\"white\",\"ticks\":\"\"}},\"scene\":{\"xaxis\":{\"backgroundcolor\":\"#E5ECF6\",\"gridcolor\":\"white\",\"gridwidth\":2,\"linecolor\":\"white\",\"showbackground\":true,\"ticks\":\"\",\"zerolinecolor\":\"white\"},\"yaxis\":{\"backgroundcolor\":\"#E5ECF6\",\"gridcolor\":\"white\",\"gridwidth\":2,\"linecolor\":\"white\",\"showbackground\":true,\"ticks\":\"\",\"zerolinecolor\":\"white\"},\"zaxis\":{\"backgroundcolor\":\"#E5ECF6\",\"gridcolor\":\"white\",\"gridwidth\":2,\"linecolor\":\"white\",\"showbackground\":true,\"ticks\":\"\",\"zerolinecolor\":\"white\"}},\"shapedefaults\":{\"line\":{\"color\":\"#2a3f5f\"}},\"ternary\":{\"aaxis\":{\"gridcolor\":\"white\",\"linecolor\":\"white\",\"ticks\":\"\"},\"baxis\":{\"gridcolor\":\"white\",\"linecolor\":\"white\",\"ticks\":\"\"},\"bgcolor\":\"#E5ECF6\",\"caxis\":{\"gridcolor\":\"white\",\"linecolor\":\"white\",\"ticks\":\"\"}},\"title\":{\"x\":0.05},\"xaxis\":{\"automargin\":true,\"gridcolor\":\"white\",\"linecolor\":\"white\",\"ticks\":\"\",\"title\":{\"standoff\":15},\"zerolinecolor\":\"white\",\"zerolinewidth\":2},\"yaxis\":{\"automargin\":true,\"gridcolor\":\"white\",\"linecolor\":\"white\",\"ticks\":\"\",\"title\":{\"standoff\":15},\"zerolinecolor\":\"white\",\"zerolinewidth\":2}}},\"xaxis\":{\"anchor\":\"y\",\"domain\":[0.0,1.0],\"title\":{\"text\":\"Sexo\"}},\"yaxis\":{\"anchor\":\"x\",\"domain\":[0.0,1.0],\"title\":{\"text\":\"Total\"}},\"legend\":{\"tracegroupgap\":0},\"margin\":{\"t\":60},\"barmode\":\"relative\"},                        {\"responsive\": true}                    )                };                            </script>        </div>\n",
       "</body>\n",
       "</html>"
      ]
     },
     "metadata": {
      "application/vnd.databricks.v1+output": {
       "addedWidgets": {},
       "arguments": {},
       "data": "<html>\n<head><meta charset=\"utf-8\" /></head>\n<body>\n    <div>            <script src=\"https://cdnjs.cloudflare.com/ajax/libs/mathjax/2.7.5/MathJax.js?config=TeX-AMS-MML_SVG\"></script><script type=\"text/javascript\">if (window.MathJax) {MathJax.Hub.Config({SVG: {font: \"STIX-Web\"}});}</script>                <script type=\"text/javascript\">window.PlotlyConfig = {MathJaxConfig: 'local'};</script>\n        <script src=\"https://cdn.plot.ly/plotly-2.9.0.min.js\"></script>                <div id=\"52a52915-e1aa-4ae6-a8e3-6fffd4ad6ec6\" class=\"plotly-graph-div\" style=\"height:100%; width:100%;\"></div>            <script type=\"text/javascript\">                                    window.PLOTLYENV=window.PLOTLYENV || {};                                    if (document.getElementById(\"52a52915-e1aa-4ae6-a8e3-6fffd4ad6ec6\")) {                    Plotly.newPlot(                        \"52a52915-e1aa-4ae6-a8e3-6fffd4ad6ec6\",                        [{\"alignmentgroup\":\"True\",\"hovertemplate\":\"Sexo=%{x}<br>Total=%{y}<extra></extra>\",\"legendgroup\":\"\",\"marker\":{\"color\":\"#636efa\",\"pattern\":{\"shape\":\"\"}},\"name\":\"\",\"offsetgroup\":\"\",\"orientation\":\"v\",\"showlegend\":false,\"textposition\":\"auto\",\"x\":[\"F\",\"M\"],\"xaxis\":\"x\",\"y\":[14675,6199],\"yaxis\":\"y\",\"type\":\"bar\"}],                        {\"template\":{\"data\":{\"bar\":[{\"error_x\":{\"color\":\"#2a3f5f\"},\"error_y\":{\"color\":\"#2a3f5f\"},\"marker\":{\"line\":{\"color\":\"#E5ECF6\",\"width\":0.5},\"pattern\":{\"fillmode\":\"overlay\",\"size\":10,\"solidity\":0.2}},\"type\":\"bar\"}],\"barpolar\":[{\"marker\":{\"line\":{\"color\":\"#E5ECF6\",\"width\":0.5},\"pattern\":{\"fillmode\":\"overlay\",\"size\":10,\"solidity\":0.2}},\"type\":\"barpolar\"}],\"carpet\":[{\"aaxis\":{\"endlinecolor\":\"#2a3f5f\",\"gridcolor\":\"white\",\"linecolor\":\"white\",\"minorgridcolor\":\"white\",\"startlinecolor\":\"#2a3f5f\"},\"baxis\":{\"endlinecolor\":\"#2a3f5f\",\"gridcolor\":\"white\",\"linecolor\":\"white\",\"minorgridcolor\":\"white\",\"startlinecolor\":\"#2a3f5f\"},\"type\":\"carpet\"}],\"choropleth\":[{\"colorbar\":{\"outlinewidth\":0,\"ticks\":\"\"},\"type\":\"choropleth\"}],\"contour\":[{\"colorbar\":{\"outlinewidth\":0,\"ticks\":\"\"},\"colorscale\":[[0.0,\"#0d0887\"],[0.1111111111111111,\"#46039f\"],[0.2222222222222222,\"#7201a8\"],[0.3333333333333333,\"#9c179e\"],[0.4444444444444444,\"#bd3786\"],[0.5555555555555556,\"#d8576b\"],[0.6666666666666666,\"#ed7953\"],[0.7777777777777778,\"#fb9f3a\"],[0.8888888888888888,\"#fdca26\"],[1.0,\"#f0f921\"]],\"type\":\"contour\"}],\"contourcarpet\":[{\"colorbar\":{\"outlinewidth\":0,\"ticks\":\"\"},\"type\":\"contourcarpet\"}],\"heatmap\":[{\"colorbar\":{\"outlinewidth\":0,\"ticks\":\"\"},\"colorscale\":[[0.0,\"#0d0887\"],[0.1111111111111111,\"#46039f\"],[0.2222222222222222,\"#7201a8\"],[0.3333333333333333,\"#9c179e\"],[0.4444444444444444,\"#bd3786\"],[0.5555555555555556,\"#d8576b\"],[0.6666666666666666,\"#ed7953\"],[0.7777777777777778,\"#fb9f3a\"],[0.8888888888888888,\"#fdca26\"],[1.0,\"#f0f921\"]],\"type\":\"heatmap\"}],\"heatmapgl\":[{\"colorbar\":{\"outlinewidth\":0,\"ticks\":\"\"},\"colorscale\":[[0.0,\"#0d0887\"],[0.1111111111111111,\"#46039f\"],[0.2222222222222222,\"#7201a8\"],[0.3333333333333333,\"#9c179e\"],[0.4444444444444444,\"#bd3786\"],[0.5555555555555556,\"#d8576b\"],[0.6666666666666666,\"#ed7953\"],[0.7777777777777778,\"#fb9f3a\"],[0.8888888888888888,\"#fdca26\"],[1.0,\"#f0f921\"]],\"type\":\"heatmapgl\"}],\"histogram\":[{\"marker\":{\"pattern\":{\"fillmode\":\"overlay\",\"size\":10,\"solidity\":0.2}},\"type\":\"histogram\"}],\"histogram2d\":[{\"colorbar\":{\"outlinewidth\":0,\"ticks\":\"\"},\"colorscale\":[[0.0,\"#0d0887\"],[0.1111111111111111,\"#46039f\"],[0.2222222222222222,\"#7201a8\"],[0.3333333333333333,\"#9c179e\"],[0.4444444444444444,\"#bd3786\"],[0.5555555555555556,\"#d8576b\"],[0.6666666666666666,\"#ed7953\"],[0.7777777777777778,\"#fb9f3a\"],[0.8888888888888888,\"#fdca26\"],[1.0,\"#f0f921\"]],\"type\":\"histogram2d\"}],\"histogram2dcontour\":[{\"colorbar\":{\"outlinewidth\":0,\"ticks\":\"\"},\"colorscale\":[[0.0,\"#0d0887\"],[0.1111111111111111,\"#46039f\"],[0.2222222222222222,\"#7201a8\"],[0.3333333333333333,\"#9c179e\"],[0.4444444444444444,\"#bd3786\"],[0.5555555555555556,\"#d8576b\"],[0.6666666666666666,\"#ed7953\"],[0.7777777777777778,\"#fb9f3a\"],[0.8888888888888888,\"#fdca26\"],[1.0,\"#f0f921\"]],\"type\":\"histogram2dcontour\"}],\"mesh3d\":[{\"colorbar\":{\"outlinewidth\":0,\"ticks\":\"\"},\"type\":\"mesh3d\"}],\"parcoords\":[{\"line\":{\"colorbar\":{\"outlinewidth\":0,\"ticks\":\"\"}},\"type\":\"parcoords\"}],\"pie\":[{\"automargin\":true,\"type\":\"pie\"}],\"scatter\":[{\"marker\":{\"colorbar\":{\"outlinewidth\":0,\"ticks\":\"\"}},\"type\":\"scatter\"}],\"scatter3d\":[{\"line\":{\"colorbar\":{\"outlinewidth\":0,\"ticks\":\"\"}},\"marker\":{\"colorbar\":{\"outlinewidth\":0,\"ticks\":\"\"}},\"type\":\"scatter3d\"}],\"scattercarpet\":[{\"marker\":{\"colorbar\":{\"outlinewidth\":0,\"ticks\":\"\"}},\"type\":\"scattercarpet\"}],\"scattergeo\":[{\"marker\":{\"colorbar\":{\"outlinewidth\":0,\"ticks\":\"\"}},\"type\":\"scattergeo\"}],\"scattergl\":[{\"marker\":{\"colorbar\":{\"outlinewidth\":0,\"ticks\":\"\"}},\"type\":\"scattergl\"}],\"scattermapbox\":[{\"marker\":{\"colorbar\":{\"outlinewidth\":0,\"ticks\":\"\"}},\"type\":\"scattermapbox\"}],\"scatterpolar\":[{\"marker\":{\"colorbar\":{\"outlinewidth\":0,\"ticks\":\"\"}},\"type\":\"scatterpolar\"}],\"scatterpolargl\":[{\"marker\":{\"colorbar\":{\"outlinewidth\":0,\"ticks\":\"\"}},\"type\":\"scatterpolargl\"}],\"scatterternary\":[{\"marker\":{\"colorbar\":{\"outlinewidth\":0,\"ticks\":\"\"}},\"type\":\"scatterternary\"}],\"surface\":[{\"colorbar\":{\"outlinewidth\":0,\"ticks\":\"\"},\"colorscale\":[[0.0,\"#0d0887\"],[0.1111111111111111,\"#46039f\"],[0.2222222222222222,\"#7201a8\"],[0.3333333333333333,\"#9c179e\"],[0.4444444444444444,\"#bd3786\"],[0.5555555555555556,\"#d8576b\"],[0.6666666666666666,\"#ed7953\"],[0.7777777777777778,\"#fb9f3a\"],[0.8888888888888888,\"#fdca26\"],[1.0,\"#f0f921\"]],\"type\":\"surface\"}],\"table\":[{\"cells\":{\"fill\":{\"color\":\"#EBF0F8\"},\"line\":{\"color\":\"white\"}},\"header\":{\"fill\":{\"color\":\"#C8D4E3\"},\"line\":{\"color\":\"white\"}},\"type\":\"table\"}]},\"layout\":{\"annotationdefaults\":{\"arrowcolor\":\"#2a3f5f\",\"arrowhead\":0,\"arrowwidth\":1},\"autotypenumbers\":\"strict\",\"coloraxis\":{\"colorbar\":{\"outlinewidth\":0,\"ticks\":\"\"}},\"colorscale\":{\"diverging\":[[0,\"#8e0152\"],[0.1,\"#c51b7d\"],[0.2,\"#de77ae\"],[0.3,\"#f1b6da\"],[0.4,\"#fde0ef\"],[0.5,\"#f7f7f7\"],[0.6,\"#e6f5d0\"],[0.7,\"#b8e186\"],[0.8,\"#7fbc41\"],[0.9,\"#4d9221\"],[1,\"#276419\"]],\"sequential\":[[0.0,\"#0d0887\"],[0.1111111111111111,\"#46039f\"],[0.2222222222222222,\"#7201a8\"],[0.3333333333333333,\"#9c179e\"],[0.4444444444444444,\"#bd3786\"],[0.5555555555555556,\"#d8576b\"],[0.6666666666666666,\"#ed7953\"],[0.7777777777777778,\"#fb9f3a\"],[0.8888888888888888,\"#fdca26\"],[1.0,\"#f0f921\"]],\"sequentialminus\":[[0.0,\"#0d0887\"],[0.1111111111111111,\"#46039f\"],[0.2222222222222222,\"#7201a8\"],[0.3333333333333333,\"#9c179e\"],[0.4444444444444444,\"#bd3786\"],[0.5555555555555556,\"#d8576b\"],[0.6666666666666666,\"#ed7953\"],[0.7777777777777778,\"#fb9f3a\"],[0.8888888888888888,\"#fdca26\"],[1.0,\"#f0f921\"]]},\"colorway\":[\"#636efa\",\"#EF553B\",\"#00cc96\",\"#ab63fa\",\"#FFA15A\",\"#19d3f3\",\"#FF6692\",\"#B6E880\",\"#FF97FF\",\"#FECB52\"],\"font\":{\"color\":\"#2a3f5f\"},\"geo\":{\"bgcolor\":\"white\",\"lakecolor\":\"white\",\"landcolor\":\"#E5ECF6\",\"showlakes\":true,\"showland\":true,\"subunitcolor\":\"white\"},\"hoverlabel\":{\"align\":\"left\"},\"hovermode\":\"closest\",\"mapbox\":{\"style\":\"light\"},\"paper_bgcolor\":\"white\",\"plot_bgcolor\":\"#E5ECF6\",\"polar\":{\"angularaxis\":{\"gridcolor\":\"white\",\"linecolor\":\"white\",\"ticks\":\"\"},\"bgcolor\":\"#E5ECF6\",\"radialaxis\":{\"gridcolor\":\"white\",\"linecolor\":\"white\",\"ticks\":\"\"}},\"scene\":{\"xaxis\":{\"backgroundcolor\":\"#E5ECF6\",\"gridcolor\":\"white\",\"gridwidth\":2,\"linecolor\":\"white\",\"showbackground\":true,\"ticks\":\"\",\"zerolinecolor\":\"white\"},\"yaxis\":{\"backgroundcolor\":\"#E5ECF6\",\"gridcolor\":\"white\",\"gridwidth\":2,\"linecolor\":\"white\",\"showbackground\":true,\"ticks\":\"\",\"zerolinecolor\":\"white\"},\"zaxis\":{\"backgroundcolor\":\"#E5ECF6\",\"gridcolor\":\"white\",\"gridwidth\":2,\"linecolor\":\"white\",\"showbackground\":true,\"ticks\":\"\",\"zerolinecolor\":\"white\"}},\"shapedefaults\":{\"line\":{\"color\":\"#2a3f5f\"}},\"ternary\":{\"aaxis\":{\"gridcolor\":\"white\",\"linecolor\":\"white\",\"ticks\":\"\"},\"baxis\":{\"gridcolor\":\"white\",\"linecolor\":\"white\",\"ticks\":\"\"},\"bgcolor\":\"#E5ECF6\",\"caxis\":{\"gridcolor\":\"white\",\"linecolor\":\"white\",\"ticks\":\"\"}},\"title\":{\"x\":0.05},\"xaxis\":{\"automargin\":true,\"gridcolor\":\"white\",\"linecolor\":\"white\",\"ticks\":\"\",\"title\":{\"standoff\":15},\"zerolinecolor\":\"white\",\"zerolinewidth\":2},\"yaxis\":{\"automargin\":true,\"gridcolor\":\"white\",\"linecolor\":\"white\",\"ticks\":\"\",\"title\":{\"standoff\":15},\"zerolinecolor\":\"white\",\"zerolinewidth\":2}}},\"xaxis\":{\"anchor\":\"y\",\"domain\":[0.0,1.0],\"title\":{\"text\":\"Sexo\"}},\"yaxis\":{\"anchor\":\"x\",\"domain\":[0.0,1.0],\"title\":{\"text\":\"Total\"}},\"legend\":{\"tracegroupgap\":0},\"margin\":{\"t\":60},\"barmode\":\"relative\"},                        {\"responsive\": true}                    )                };                            </script>        </div>\n</body>\n</html>",
       "datasetInfos": [],
       "metadata": {},
       "removedWidgets": [],
       "textData": null,
       "type": "htmlSandbox"
      }
     },
     "output_type": "display_data"
    }
   ],
   "source": [
    "resultado.plot.bar(x='Sexo', y='Total')"
   ]
  },
  {
   "cell_type": "markdown",
   "metadata": {
    "application/vnd.databricks.v1+cell": {
     "cellMetadata": {
      "byteLimit": 2048000,
      "rowLimit": 10000
     },
     "inputWidgets": {},
     "nuid": "c55c3094-9f8c-45ef-9b5a-00c6f6f5d91f",
     "showTitle": false,
     "tableResultSettingsMap": {},
     "title": ""
    }
   },
   "source": [
    "Continuação do desafio"
   ]
  },
  {
   "cell_type": "code",
   "execution_count": 0,
   "metadata": {
    "application/vnd.databricks.v1+cell": {
     "cellMetadata": {
      "byteLimit": 2048000,
      "rowLimit": 10000
     },
     "inputWidgets": {},
     "nuid": "81d63676-dd87-4725-853f-25f19dfa6a7b",
     "showTitle": false,
     "tableResultSettingsMap": {},
     "title": ""
    }
   },
   "outputs": [
    {
     "output_type": "stream",
     "name": "stdout",
     "output_type": "stream",
     "text": [
      "Out[23]: Index(['Ano do processo seletivo', 'Semestre do processo seletivo', 'Sexo',\n       'Data de Nascimento', 'UF de resid�ncia', 'Municipio de resid�ncia',\n       'Etnia/Cor', 'Pessoa com defici�ncia?',\n       'Tipo de escola no ensino m�dio', 'Ano conclus�o ensino m�dio',\n       'Concluiu curso superior?', 'Professor rede p�blica ensino?',\n       'N� de membros Grupo Familiar', 'Renda familiar mensal bruta',\n       'Renda mensal bruta per capita', 'Regi�o grupo de prefer�ncia', 'UF',\n       'Cod.Microrregi�o', 'Microrregi�o', 'Cod.Mesorregi�o', 'Mesorregi�o',\n       'Conceito de curso do GP', '�rea do conhecimento',\n       'Sub�rea do conhecimento', 'Cod. do Grupo de prefer�ncia',\n       'Nota Corte Grupo Prefer�ncia', 'Op��es de cursos da inscri��o',\n       'Nome mantenedora', 'Natureza Jur�dica Mantenedora',\n       'CNPJ da mantenedora', 'C�digo e-MEC da Mantenedora', 'Nome da IES',\n       'C�digo e-MEC da IES', 'Organiza��o Acad�mica da IES',\n       'Munic�pio da IES', 'UF da IES', 'Nome do Local de oferta',\n       'C�digo do Local de Oferta', 'Mun�cipio do Local de Oferta',\n       'UF do Local de Oferta', 'C�digo do curso', 'Nome do curso', 'Turno',\n       'Grau', 'Conceito', 'M�dia nota Enem', 'Ano do Enem', 'Reda��o',\n       'Matem�tica e suas Tecnologias', 'Linguagens, C�digos e suas Tec',\n       'Ci�ncias Natureza e suas Tec', 'Ci�ncias Humanas e suas Tec',\n       'Situa��o Inscri��o Fies', 'Percentual de financiamento',\n       'Semestre do financiamento', 'Qtde semestre financiado'],\n      dtype='object')"
     ]
    }
   ],
   "source": [
    "df.columns"
   ]
  },
  {
   "cell_type": "code",
   "execution_count": 0,
   "metadata": {
    "application/vnd.databricks.v1+cell": {
     "cellMetadata": {
      "byteLimit": 2048000,
      "rowLimit": 10000
     },
     "inputWidgets": {},
     "nuid": "aa1ec65f-a72d-4161-ad5b-f75d8f654baa",
     "showTitle": false,
     "tableResultSettingsMap": {},
     "title": ""
    }
   },
   "outputs": [],
   "source": [
    "df.columns = ['Ano do processo seletivo', 'Semestre do processo seletivo', 'Sexo',\n",
    "       'Data de Nascimento', 'UF de residência', 'Municipio de residência',\n",
    "       'Etnia/Cor', 'Pessoa com deficiência?',\n",
    "       'Tipo de escola no ensino médio', 'Ano conclusão ensino médio',\n",
    "       'Concluiu curso superior?', 'Professor rede pública ensino?',\n",
    "       'Nº de membros Grupo Familiar', 'Renda familiar mensal bruta',\n",
    "       'Renda mensal bruta per capita', 'Região grupo de preferência', 'UF',\n",
    "       'Cod.Microrregião', 'Microrregião', 'Cod.Mesorregiãoo', 'Mesorregião',\n",
    "       'Conceito de curso do GP', 'Área do conhecimento',\n",
    "       'Subárea do conhecimento', 'Cod. do Grupo de preferência',\n",
    "       'Nota Corte Grupo Preferência', 'Opções de cursos da inscrição',\n",
    "       'Nome mantenedora', 'Natureza Jurídica Mantenedora',\n",
    "       'CNPJ da mantenedora', 'Código e-MEC da Mantenedora', 'Nome da IES',\n",
    "       'Código e-MEC da IES', 'Organização Acadêmica da IES',\n",
    "       'Município da IES', 'UF da IES', 'Nome do Local de oferta',\n",
    "       'Código do Local de Oferta', 'Munícipio do Local de Oferta',\n",
    "       'UF do Local de Oferta', 'Código do curso', 'Nome do curso', 'Turno',\n",
    "       'Grau', 'Conceito', 'Média nota Enem', 'Ano do Enem', 'Redação',\n",
    "       'Matemática e suas Tecnologias', 'Linguagens, Códigos e suas Tec',\n",
    "       'Ciências Natureza e suas Tec', 'Ciências Humanas e suas Tec',\n",
    "       'Situação Inscrição Fies', 'Percentual de financiamento',\n",
    "       'Semestre do financiamento', 'Qtde semestre financiado']\n"
   ]
  },
  {
   "cell_type": "code",
   "execution_count": 0,
   "metadata": {
    "application/vnd.databricks.v1+cell": {
     "cellMetadata": {
      "byteLimit": 2048000,
      "rowLimit": 10000
     },
     "inputWidgets": {},
     "nuid": "dea33a43-3cf8-4c32-bd71-7a58129b5ecf",
     "showTitle": false,
     "tableResultSettingsMap": {},
     "title": ""
    }
   },
   "outputs": [],
   "source": [
    "disciplinas = df[['Redação',\t'Matemática e suas Tecnologias',\t'Linguagens, Códigos e suas Tec',\t'Ciências Natureza e suas Tec',\t'Ciências Humanas e suas Tec']]"
   ]
  },
  {
   "cell_type": "code",
   "execution_count": 0,
   "metadata": {
    "application/vnd.databricks.v1+cell": {
     "cellMetadata": {
      "byteLimit": 2048000,
      "rowLimit": 10000
     },
     "inputWidgets": {},
     "nuid": "5a5f795f-edf4-4f96-a31d-c62f374fab7b",
     "showTitle": false,
     "tableResultSettingsMap": {},
     "title": ""
    }
   },
   "outputs": [],
   "source": [
    "disciplinas['Matemática e suas Tecnologias'] = disciplinas['Matemática e suas Tecnologias'].apply(lambda x: x.replace(',', '.')).astype(float)\n",
    "disciplinas['Linguagens, Códigos e suas Tec'] = disciplinas['Linguagens, Códigos e suas Tec'].apply(lambda x: x.replace(',', '.')).astype(float)\n",
    "disciplinas['Ciências Natureza e suas Tec'] = disciplinas['Ciências Natureza e suas Tec'].apply(lambda x: x.replace(',', '.')).astype(float)\n",
    "disciplinas['Ciências Humanas e suas Tec'] = disciplinas['Ciências Humanas e suas Tec'].apply(lambda x: x.replace(',', '.')).astype(float)\n",
    "     "
   ]
  },
  {
   "cell_type": "code",
   "execution_count": 0,
   "metadata": {
    "application/vnd.databricks.v1+cell": {
     "cellMetadata": {
      "byteLimit": 2048000,
      "rowLimit": 10000
     },
     "inputWidgets": {},
     "nuid": "af5b0d3c-a4f0-495a-ae12-e13bfa7d701e",
     "showTitle": false,
     "tableResultSettingsMap": {},
     "title": ""
    }
   },
   "outputs": [
    {
     "output_type": "display_data",
     "data": {
      "text/html": [
       "<div>\n",
       "<style scoped>\n",
       "    .dataframe tbody tr th:only-of-type {\n",
       "        vertical-align: middle;\n",
       "    }\n",
       "\n",
       "    .dataframe tbody tr th {\n",
       "        vertical-align: top;\n",
       "    }\n",
       "\n",
       "    .dataframe thead th {\n",
       "        text-align: right;\n",
       "    }\n",
       "</style>\n",
       "<table border=\"1\" class=\"dataframe\">\n",
       "  <thead>\n",
       "    <tr style=\"text-align: right;\">\n",
       "      <th></th>\n",
       "      <th>Redação</th>\n",
       "      <th>Matemática e suas Tecnologias</th>\n",
       "      <th>Linguagens, Códigos e suas Tec</th>\n",
       "      <th>Ciências Natureza e suas Tec</th>\n",
       "      <th>Ciências Humanas e suas Tec</th>\n",
       "    </tr>\n",
       "    <tr>\n",
       "      <th>ID do estudante</th>\n",
       "      <th></th>\n",
       "      <th></th>\n",
       "      <th></th>\n",
       "      <th></th>\n",
       "      <th></th>\n",
       "    </tr>\n",
       "  </thead>\n",
       "  <tbody>\n",
       "    <tr>\n",
       "      <th>351412708</th>\n",
       "      <td>840</td>\n",
       "      <td>744.7</td>\n",
       "      <td>644.9</td>\n",
       "      <td>685.2</td>\n",
       "      <td>726.5</td>\n",
       "    </tr>\n",
       "    <tr>\n",
       "      <th>205956741</th>\n",
       "      <td>700</td>\n",
       "      <td>599.6</td>\n",
       "      <td>546.5</td>\n",
       "      <td>469.7</td>\n",
       "      <td>493.4</td>\n",
       "    </tr>\n",
       "    <tr>\n",
       "      <th>205958155</th>\n",
       "      <td>800</td>\n",
       "      <td>672.8</td>\n",
       "      <td>425.5</td>\n",
       "      <td>606.3</td>\n",
       "      <td>703.3</td>\n",
       "    </tr>\n",
       "    <tr>\n",
       "      <th>353015727</th>\n",
       "      <td>620</td>\n",
       "      <td>639.7</td>\n",
       "      <td>566.9</td>\n",
       "      <td>604.1</td>\n",
       "      <td>667.6</td>\n",
       "    </tr>\n",
       "    <tr>\n",
       "      <th>351073514</th>\n",
       "      <td>940</td>\n",
       "      <td>818.4</td>\n",
       "      <td>640.8</td>\n",
       "      <td>676.5</td>\n",
       "      <td>666.6</td>\n",
       "    </tr>\n",
       "  </tbody>\n",
       "</table>\n",
       "</div>"
      ]
     },
     "metadata": {
      "application/vnd.databricks.v1+output": {
       "addedWidgets": {},
       "arguments": {},
       "data": "<div>\n<style scoped>\n    .dataframe tbody tr th:only-of-type {\n        vertical-align: middle;\n    }\n\n    .dataframe tbody tr th {\n        vertical-align: top;\n    }\n\n    .dataframe thead th {\n        text-align: right;\n    }\n</style>\n<table border=\"1\" class=\"dataframe\">\n  <thead>\n    <tr style=\"text-align: right;\">\n      <th></th>\n      <th>Redação</th>\n      <th>Matemática e suas Tecnologias</th>\n      <th>Linguagens, Códigos e suas Tec</th>\n      <th>Ciências Natureza e suas Tec</th>\n      <th>Ciências Humanas e suas Tec</th>\n    </tr>\n    <tr>\n      <th>ID do estudante</th>\n      <th></th>\n      <th></th>\n      <th></th>\n      <th></th>\n      <th></th>\n    </tr>\n  </thead>\n  <tbody>\n    <tr>\n      <th>351412708</th>\n      <td>840</td>\n      <td>744.7</td>\n      <td>644.9</td>\n      <td>685.2</td>\n      <td>726.5</td>\n    </tr>\n    <tr>\n      <th>205956741</th>\n      <td>700</td>\n      <td>599.6</td>\n      <td>546.5</td>\n      <td>469.7</td>\n      <td>493.4</td>\n    </tr>\n    <tr>\n      <th>205958155</th>\n      <td>800</td>\n      <td>672.8</td>\n      <td>425.5</td>\n      <td>606.3</td>\n      <td>703.3</td>\n    </tr>\n    <tr>\n      <th>353015727</th>\n      <td>620</td>\n      <td>639.7</td>\n      <td>566.9</td>\n      <td>604.1</td>\n      <td>667.6</td>\n    </tr>\n    <tr>\n      <th>351073514</th>\n      <td>940</td>\n      <td>818.4</td>\n      <td>640.8</td>\n      <td>676.5</td>\n      <td>666.6</td>\n    </tr>\n  </tbody>\n</table>\n</div>",
       "datasetInfos": [],
       "metadata": {},
       "removedWidgets": [],
       "textData": null,
       "type": "htmlSandbox"
      }
     },
     "output_type": "display_data"
    }
   ],
   "source": [
    "disciplinas.head()"
   ]
  },
  {
   "cell_type": "code",
   "execution_count": 0,
   "metadata": {
    "application/vnd.databricks.v1+cell": {
     "cellMetadata": {
      "byteLimit": 2048000,
      "rowLimit": 10000
     },
     "inputWidgets": {},
     "nuid": "09c79a07-5efb-47e9-b5ce-14ca25b05ff4",
     "showTitle": false,
     "tableResultSettingsMap": {},
     "title": ""
    }
   },
   "outputs": [
    {
     "output_type": "stream",
     "name": "stderr",
     "output_type": "stream",
     "text": [
      "/databricks/spark/python/pyspark/sql/pandas/conversion.py:122: UserWarning:\n\ntoPandas attempted Arrow optimization because 'spark.sql.execution.arrow.pyspark.enabled' is set to true; however, failed by the reason below:\n  Unable to convert the field pearson(__correlation_output__). If this column is not necessary, you may consider dropping it or converting to primitive type before the conversion.\nDirect cause: Unsupported type in conversion to Arrow: MatrixUDT()\nAttempting non-optimization as 'spark.sql.execution.arrow.pyspark.fallback.enabled' is set to true.\n\n"
     ]
    },
    {
     "output_type": "display_data",
     "data": {
      "text/html": [
       "<style type=\"text/css\">\n",
       "#T_a4e6e_row0_col0, #T_a4e6e_row1_col1, #T_a4e6e_row2_col2, #T_a4e6e_row3_col3, #T_a4e6e_row4_col4 {\n",
       "  background-color: #67000d;\n",
       "  color: #f1f1f1;\n",
       "}\n",
       "#T_a4e6e_row0_col1, #T_a4e6e_row1_col0 {\n",
       "  background-color: #e43027;\n",
       "  color: #f1f1f1;\n",
       "}\n",
       "#T_a4e6e_row0_col2, #T_a4e6e_row2_col0 {\n",
       "  background-color: #e32f27;\n",
       "  color: #f1f1f1;\n",
       "}\n",
       "#T_a4e6e_row0_col3, #T_a4e6e_row3_col0 {\n",
       "  background-color: #e53228;\n",
       "  color: #f1f1f1;\n",
       "}\n",
       "#T_a4e6e_row0_col4, #T_a4e6e_row4_col0 {\n",
       "  background-color: #ed392b;\n",
       "  color: #f1f1f1;\n",
       "}\n",
       "#T_a4e6e_row1_col2, #T_a4e6e_row2_col1 {\n",
       "  background-color: #cc191e;\n",
       "  color: #f1f1f1;\n",
       "}\n",
       "#T_a4e6e_row1_col3, #T_a4e6e_row3_col1, #T_a4e6e_row3_col4, #T_a4e6e_row4_col3 {\n",
       "  background-color: #c1161b;\n",
       "  color: #f1f1f1;\n",
       "}\n",
       "#T_a4e6e_row1_col4, #T_a4e6e_row4_col1 {\n",
       "  background-color: #ca181d;\n",
       "  color: #f1f1f1;\n",
       "}\n",
       "#T_a4e6e_row2_col3, #T_a4e6e_row3_col2 {\n",
       "  background-color: #c9181d;\n",
       "  color: #f1f1f1;\n",
       "}\n",
       "#T_a4e6e_row2_col4, #T_a4e6e_row4_col2 {\n",
       "  background-color: #bd151a;\n",
       "  color: #f1f1f1;\n",
       "}\n",
       "</style>\n",
       "<table id=\"T_a4e6e\">\n",
       "  <thead>\n",
       "    <tr>\n",
       "      <th class=\"blank level0\" >&nbsp;</th>\n",
       "      <th id=\"T_a4e6e_level0_col0\" class=\"col_heading level0 col0\" >Redação</th>\n",
       "      <th id=\"T_a4e6e_level0_col1\" class=\"col_heading level0 col1\" >Matemática e suas Tecnologias</th>\n",
       "      <th id=\"T_a4e6e_level0_col2\" class=\"col_heading level0 col2\" >Linguagens, Códigos e suas Tec</th>\n",
       "      <th id=\"T_a4e6e_level0_col3\" class=\"col_heading level0 col3\" >Ciências Natureza e suas Tec</th>\n",
       "      <th id=\"T_a4e6e_level0_col4\" class=\"col_heading level0 col4\" >Ciências Humanas e suas Tec</th>\n",
       "    </tr>\n",
       "  </thead>\n",
       "  <tbody>\n",
       "    <tr>\n",
       "      <th id=\"T_a4e6e_level0_row0\" class=\"row_heading level0 row0\" >Redação</th>\n",
       "      <td id=\"T_a4e6e_row0_col0\" class=\"data row0 col0\" >1.000000</td>\n",
       "      <td id=\"T_a4e6e_row0_col1\" class=\"data row0 col1\" >0.322136</td>\n",
       "      <td id=\"T_a4e6e_row0_col2\" class=\"data row0 col2\" >0.329476</td>\n",
       "      <td id=\"T_a4e6e_row0_col3\" class=\"data row0 col3\" >0.316261</td>\n",
       "      <td id=\"T_a4e6e_row0_col4\" class=\"data row0 col4\" >0.258916</td>\n",
       "    </tr>\n",
       "    <tr>\n",
       "      <th id=\"T_a4e6e_level0_row1\" class=\"row_heading level0 row1\" >Matemática e suas Tecnologias</th>\n",
       "      <td id=\"T_a4e6e_row1_col0\" class=\"data row1 col0\" >0.322136</td>\n",
       "      <td id=\"T_a4e6e_row1_col1\" class=\"data row1 col1\" >1.000000</td>\n",
       "      <td id=\"T_a4e6e_row1_col2\" class=\"data row1 col2\" >0.489192</td>\n",
       "      <td id=\"T_a4e6e_row1_col3\" class=\"data row1 col3\" >0.570014</td>\n",
       "      <td id=\"T_a4e6e_row1_col4\" class=\"data row1 col4\" >0.504442</td>\n",
       "    </tr>\n",
       "    <tr>\n",
       "      <th id=\"T_a4e6e_level0_row2\" class=\"row_heading level0 row2\" >Linguagens, Códigos e suas Tec</th>\n",
       "      <td id=\"T_a4e6e_row2_col0\" class=\"data row2 col0\" >0.329476</td>\n",
       "      <td id=\"T_a4e6e_row2_col1\" class=\"data row2 col1\" >0.489192</td>\n",
       "      <td id=\"T_a4e6e_row2_col2\" class=\"data row2 col2\" >1.000000</td>\n",
       "      <td id=\"T_a4e6e_row2_col3\" class=\"data row2 col3\" >0.514951</td>\n",
       "      <td id=\"T_a4e6e_row2_col4\" class=\"data row2 col4\" >0.587629</td>\n",
       "    </tr>\n",
       "    <tr>\n",
       "      <th id=\"T_a4e6e_level0_row3\" class=\"row_heading level0 row3\" >Ciências Natureza e suas Tec</th>\n",
       "      <td id=\"T_a4e6e_row3_col0\" class=\"data row3 col0\" >0.316261</td>\n",
       "      <td id=\"T_a4e6e_row3_col1\" class=\"data row3 col1\" >0.570014</td>\n",
       "      <td id=\"T_a4e6e_row3_col2\" class=\"data row3 col2\" >0.514951</td>\n",
       "      <td id=\"T_a4e6e_row3_col3\" class=\"data row3 col3\" >1.000000</td>\n",
       "      <td id=\"T_a4e6e_row3_col4\" class=\"data row3 col4\" >0.563208</td>\n",
       "    </tr>\n",
       "    <tr>\n",
       "      <th id=\"T_a4e6e_level0_row4\" class=\"row_heading level0 row4\" >Ciências Humanas e suas Tec</th>\n",
       "      <td id=\"T_a4e6e_row4_col0\" class=\"data row4 col0\" >0.258916</td>\n",
       "      <td id=\"T_a4e6e_row4_col1\" class=\"data row4 col1\" >0.504442</td>\n",
       "      <td id=\"T_a4e6e_row4_col2\" class=\"data row4 col2\" >0.587629</td>\n",
       "      <td id=\"T_a4e6e_row4_col3\" class=\"data row4 col3\" >0.563208</td>\n",
       "      <td id=\"T_a4e6e_row4_col4\" class=\"data row4 col4\" >1.000000</td>\n",
       "    </tr>\n",
       "  </tbody>\n",
       "</table>\n"
      ]
     },
     "metadata": {
      "application/vnd.databricks.v1+output": {
       "addedWidgets": {},
       "arguments": {},
       "data": "<style type=\"text/css\">\n#T_a4e6e_row0_col0, #T_a4e6e_row1_col1, #T_a4e6e_row2_col2, #T_a4e6e_row3_col3, #T_a4e6e_row4_col4 {\n  background-color: #67000d;\n  color: #f1f1f1;\n}\n#T_a4e6e_row0_col1, #T_a4e6e_row1_col0 {\n  background-color: #e43027;\n  color: #f1f1f1;\n}\n#T_a4e6e_row0_col2, #T_a4e6e_row2_col0 {\n  background-color: #e32f27;\n  color: #f1f1f1;\n}\n#T_a4e6e_row0_col3, #T_a4e6e_row3_col0 {\n  background-color: #e53228;\n  color: #f1f1f1;\n}\n#T_a4e6e_row0_col4, #T_a4e6e_row4_col0 {\n  background-color: #ed392b;\n  color: #f1f1f1;\n}\n#T_a4e6e_row1_col2, #T_a4e6e_row2_col1 {\n  background-color: #cc191e;\n  color: #f1f1f1;\n}\n#T_a4e6e_row1_col3, #T_a4e6e_row3_col1, #T_a4e6e_row3_col4, #T_a4e6e_row4_col3 {\n  background-color: #c1161b;\n  color: #f1f1f1;\n}\n#T_a4e6e_row1_col4, #T_a4e6e_row4_col1 {\n  background-color: #ca181d;\n  color: #f1f1f1;\n}\n#T_a4e6e_row2_col3, #T_a4e6e_row3_col2 {\n  background-color: #c9181d;\n  color: #f1f1f1;\n}\n#T_a4e6e_row2_col4, #T_a4e6e_row4_col2 {\n  background-color: #bd151a;\n  color: #f1f1f1;\n}\n</style>\n<table id=\"T_a4e6e\">\n  <thead>\n    <tr>\n      <th class=\"blank level0\" >&nbsp;</th>\n      <th id=\"T_a4e6e_level0_col0\" class=\"col_heading level0 col0\" >Redação</th>\n      <th id=\"T_a4e6e_level0_col1\" class=\"col_heading level0 col1\" >Matemática e suas Tecnologias</th>\n      <th id=\"T_a4e6e_level0_col2\" class=\"col_heading level0 col2\" >Linguagens, Códigos e suas Tec</th>\n      <th id=\"T_a4e6e_level0_col3\" class=\"col_heading level0 col3\" >Ciências Natureza e suas Tec</th>\n      <th id=\"T_a4e6e_level0_col4\" class=\"col_heading level0 col4\" >Ciências Humanas e suas Tec</th>\n    </tr>\n  </thead>\n  <tbody>\n    <tr>\n      <th id=\"T_a4e6e_level0_row0\" class=\"row_heading level0 row0\" >Redação</th>\n      <td id=\"T_a4e6e_row0_col0\" class=\"data row0 col0\" >1.000000</td>\n      <td id=\"T_a4e6e_row0_col1\" class=\"data row0 col1\" >0.322136</td>\n      <td id=\"T_a4e6e_row0_col2\" class=\"data row0 col2\" >0.329476</td>\n      <td id=\"T_a4e6e_row0_col3\" class=\"data row0 col3\" >0.316261</td>\n      <td id=\"T_a4e6e_row0_col4\" class=\"data row0 col4\" >0.258916</td>\n    </tr>\n    <tr>\n      <th id=\"T_a4e6e_level0_row1\" class=\"row_heading level0 row1\" >Matemática e suas Tecnologias</th>\n      <td id=\"T_a4e6e_row1_col0\" class=\"data row1 col0\" >0.322136</td>\n      <td id=\"T_a4e6e_row1_col1\" class=\"data row1 col1\" >1.000000</td>\n      <td id=\"T_a4e6e_row1_col2\" class=\"data row1 col2\" >0.489192</td>\n      <td id=\"T_a4e6e_row1_col3\" class=\"data row1 col3\" >0.570014</td>\n      <td id=\"T_a4e6e_row1_col4\" class=\"data row1 col4\" >0.504442</td>\n    </tr>\n    <tr>\n      <th id=\"T_a4e6e_level0_row2\" class=\"row_heading level0 row2\" >Linguagens, Códigos e suas Tec</th>\n      <td id=\"T_a4e6e_row2_col0\" class=\"data row2 col0\" >0.329476</td>\n      <td id=\"T_a4e6e_row2_col1\" class=\"data row2 col1\" >0.489192</td>\n      <td id=\"T_a4e6e_row2_col2\" class=\"data row2 col2\" >1.000000</td>\n      <td id=\"T_a4e6e_row2_col3\" class=\"data row2 col3\" >0.514951</td>\n      <td id=\"T_a4e6e_row2_col4\" class=\"data row2 col4\" >0.587629</td>\n    </tr>\n    <tr>\n      <th id=\"T_a4e6e_level0_row3\" class=\"row_heading level0 row3\" >Ciências Natureza e suas Tec</th>\n      <td id=\"T_a4e6e_row3_col0\" class=\"data row3 col0\" >0.316261</td>\n      <td id=\"T_a4e6e_row3_col1\" class=\"data row3 col1\" >0.570014</td>\n      <td id=\"T_a4e6e_row3_col2\" class=\"data row3 col2\" >0.514951</td>\n      <td id=\"T_a4e6e_row3_col3\" class=\"data row3 col3\" >1.000000</td>\n      <td id=\"T_a4e6e_row3_col4\" class=\"data row3 col4\" >0.563208</td>\n    </tr>\n    <tr>\n      <th id=\"T_a4e6e_level0_row4\" class=\"row_heading level0 row4\" >Ciências Humanas e suas Tec</th>\n      <td id=\"T_a4e6e_row4_col0\" class=\"data row4 col0\" >0.258916</td>\n      <td id=\"T_a4e6e_row4_col1\" class=\"data row4 col1\" >0.504442</td>\n      <td id=\"T_a4e6e_row4_col2\" class=\"data row4 col2\" >0.587629</td>\n      <td id=\"T_a4e6e_row4_col3\" class=\"data row4 col3\" >0.563208</td>\n      <td id=\"T_a4e6e_row4_col4\" class=\"data row4 col4\" >1.000000</td>\n    </tr>\n  </tbody>\n</table>\n",
       "datasetInfos": [],
       "metadata": {},
       "removedWidgets": [],
       "textData": null,
       "type": "htmlSandbox"
      }
     },
     "output_type": "display_data"
    }
   ],
   "source": [
    "disciplinas.corr().style.background_gradient(cmap=\"Reds\",vmin=-1,vmax=1)"
   ]
  },
  {
   "cell_type": "code",
   "execution_count": 0,
   "metadata": {
    "application/vnd.databricks.v1+cell": {
     "cellMetadata": {
      "byteLimit": 2048000,
      "rowLimit": 10000
     },
     "inputWidgets": {},
     "nuid": "73314721-61d6-466d-a2db-96af26927015",
     "showTitle": false,
     "tableResultSettingsMap": {},
     "title": ""
    }
   },
   "outputs": [],
   "source": []
  },
  {
   "cell_type": "code",
   "execution_count": 0,
   "metadata": {
    "application/vnd.databricks.v1+cell": {
     "cellMetadata": {
      "byteLimit": 2048000,
      "rowLimit": 10000
     },
     "inputWidgets": {},
     "nuid": "7343edb2-94ec-4b45-a8f0-4b44a75101a5",
     "showTitle": false,
     "tableResultSettingsMap": {},
     "title": ""
    }
   },
   "outputs": [],
   "source": []
  },
  {
   "cell_type": "code",
   "execution_count": 0,
   "metadata": {
    "application/vnd.databricks.v1+cell": {
     "cellMetadata": {
      "byteLimit": 2048000,
      "rowLimit": 10000
     },
     "inputWidgets": {},
     "nuid": "06ad8739-cd59-4f25-95a0-acb2d9f6d754",
     "showTitle": false,
     "tableResultSettingsMap": {},
     "title": ""
    }
   },
   "outputs": [],
   "source": []
  },
  {
   "cell_type": "markdown",
   "metadata": {
    "application/vnd.databricks.v1+cell": {
     "cellMetadata": {
      "byteLimit": 2048000,
      "rowLimit": 10000
     },
     "inputWidgets": {},
     "nuid": "d058aa7a-6feb-4b3d-91a6-82283f3b3864",
     "showTitle": false,
     "tableResultSettingsMap": {},
     "title": ""
    }
   },
   "source": [
    "import pyspark.pandas as ps\n",
    "\n",
    "data = {'Produto': ['A', 'B', 'C', 'A', 'B', 'C', 'A', 'B', 'C', 'A', 'B', 'C'],\n",
    "        'Preço (R$)': [1200, 1500, 1000, 1300, 1600, 1100, 1250, 1550, 1050, 1350, 1450, 1150]}\n",
    "\n",
    "df = ps.DataFrame(data)"
   ]
  },
  {
   "cell_type": "markdown",
   "metadata": {
    "application/vnd.databricks.v1+cell": {
     "cellMetadata": {
      "byteLimit": 2048000,
      "rowLimit": 10000
     },
     "inputWidgets": {},
     "nuid": "e88705d1-c432-4ae8-8c02-5a187a8d5d2d",
     "showTitle": false,
     "tableResultSettingsMap": {},
     "title": ""
    }
   },
   "source": [
    "df['Preço (R$)'].plot.box()"
   ]
  },
  {
   "cell_type": "code",
   "execution_count": 0,
   "metadata": {
    "application/vnd.databricks.v1+cell": {
     "cellMetadata": {
      "byteLimit": 2048000,
      "rowLimit": 10000
     },
     "inputWidgets": {},
     "nuid": "46721fe6-ef63-45ce-b6c3-a79f3947df13",
     "showTitle": false,
     "tableResultSettingsMap": {},
     "title": ""
    }
   },
   "outputs": [],
   "source": []
  }
 ],
 "metadata": {
  "application/vnd.databricks.v1+notebook": {
   "computePreferences": null,
   "dashboards": [],
   "environmentMetadata": {
    "base_environment": "",
    "client": "1"
   },
   "language": "python",
   "notebookMetadata": {
    "pythonIndentUnit": 4
   },
   "notebookName": "Desafio FIES",
   "widgets": {}
  }
 },
 "nbformat": 4,
 "nbformat_minor": 0
}
